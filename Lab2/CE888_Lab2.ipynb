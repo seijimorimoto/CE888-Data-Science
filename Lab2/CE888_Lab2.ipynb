{
  "nbformat": 4,
  "nbformat_minor": 0,
  "metadata": {
    "colab": {
      "name": "CE888_Lab2.ipynb",
      "provenance": [],
      "collapsed_sections": [],
      "authorship_tag": "ABX9TyPhmbg1w8iyYy8MzuXinfgo",
      "include_colab_link": true
    },
    "kernelspec": {
      "name": "python3",
      "display_name": "Python 3"
    }
  },
  "cells": [
    {
      "cell_type": "markdown",
      "metadata": {
        "id": "view-in-github",
        "colab_type": "text"
      },
      "source": [
        "<a href=\"https://colab.research.google.com/github/seijimorimoto/CE888-Data-Science/blob/master/Lab2/CE888_Lab2.ipynb\" target=\"_parent\"><img src=\"https://colab.research.google.com/assets/colab-badge.svg\" alt=\"Open In Colab\"/></a>"
      ]
    },
    {
      "cell_type": "markdown",
      "metadata": {
        "id": "7Sp3QD0lLe6z",
        "colab_type": "text"
      },
      "source": [
        "#**Lab 2. Bootstrapping in Python**"
      ]
    },
    {
      "cell_type": "markdown",
      "metadata": {
        "id": "uAQuE-01Lstk",
        "colab_type": "text"
      },
      "source": [
        "##**I. Using Customers Data and Implementing Bootstrap Functions**"
      ]
    },
    {
      "cell_type": "code",
      "metadata": {
        "id": "zmvYTR71x_--",
        "colab_type": "code",
        "colab": {}
      },
      "source": [
        "import pandas as pd\n",
        "import seaborn as sns\n",
        "import numpy as np\n",
        "import matplotlib.pyplot as plt"
      ],
      "execution_count": 0,
      "outputs": []
    },
    {
      "cell_type": "code",
      "metadata": {
        "id": "iQU478SKyRRP",
        "colab_type": "code",
        "colab": {}
      },
      "source": [
        "# Load the data\n",
        "df = pd.read_csv('https://raw.githubusercontent.com/albanda/CE888/master/lab2%20-%20bootstrap/customers.csv')\n",
        "data = df.values.T[1]"
      ],
      "execution_count": 0,
      "outputs": []
    },
    {
      "cell_type": "code",
      "metadata": {
        "id": "UPx5GEJZyR4n",
        "colab_type": "code",
        "colab": {}
      },
      "source": [
        "# Checking the notes from the lecture, create here your own bootstrap function:\n",
        "# 1. Create an array of samples of shape (n_iterations, sample_size)\n",
        "# 2. Calculate and save the mean of the array (this is \"data_mean\" that is returned by the function)\n",
        "# 3. In each iteration:\n",
        "# 3.1 Get the data corresponding to that iteration (new_samples[iteration, :])\n",
        "# 3.2 Calculate the mean of the iteration data and store it\n",
        "# (At this point you should have an array of n_iterations values)\n",
        "# 4. Calculate the lower and upper bounds for a 95% CI (hint: check the percentile function on Numpy)\n",
        "# 5. Return data_mean, and the lower and upper bounds of your interval\n",
        "def bootstrap_mean(sample, sample_size, n_iterations):\n",
        "  samples = np.zeros((n_iterations, sample_size))\n",
        "  for i in range(n_iterations):\n",
        "    samples[i, :] = np.random.choice(sample, (sample_size), replace=True)\n",
        "  data_mean = np.mean(samples)\n",
        "  samples_means = np.mean(samples, axis=1)\n",
        "  lower = np.percentile(samples_means, 2.5)\n",
        "  upper = np.percentile(samples_means, 97.5)\n",
        "  return data_mean, lower, upper"
      ],
      "execution_count": 0,
      "outputs": []
    },
    {
      "cell_type": "code",
      "metadata": {
        "id": "SDEDSDq41Ag4",
        "colab_type": "code",
        "outputId": "38878d36-7b49-42ee-b420-da5ec64f1931",
        "colab": {
          "base_uri": "https://localhost:8080/",
          "height": 386
        }
      },
      "source": [
        "# Call your bootstrap function and plot the results\n",
        "boots = []\n",
        "for i in range(100, 100000, 1000):\n",
        "    boot = bootstrap_mean(data, data.shape[0], i)\n",
        "    boots.append([i, boot[0], \"mean\"])\n",
        "    boots.append([i, boot[1], \"lower\"])\n",
        "    boots.append([i, boot[2], \"upper\"])\n",
        "\n",
        "df_boot = pd.DataFrame(boots, columns=['Boostrap Iterations', 'Mean', \"Value\"])\n",
        "sns_plot = sns.lmplot(df_boot.columns[0], df_boot.columns[1], data=df_boot, fit_reg=False, hue=\"Value\")\n",
        "\n",
        "sns_plot.axes[0, 0].set_ylim(0,)\n",
        "sns_plot.axes[0, 0].set_xlim(0, 100000)\n",
        "\n",
        "#sns_plot.savefig(\"bootstrap_confidence.png\", bbox_inches='tight')\n",
        "#sns_plot.savefig(\"bootstrap_confidence.pdf\", bbox_inches='tight')"
      ],
      "execution_count": 0,
      "outputs": [
        {
          "output_type": "execute_result",
          "data": {
            "text/plain": [
              "(0, 100000)"
            ]
          },
          "metadata": {
            "tags": []
          },
          "execution_count": 25
        },
        {
          "output_type": "display_data",
          "data": {
            "image/png": "[encoded data removed]",
            "text/plain": [
              "<Figure size 425.125x360 with 1 Axes>"
            ]
          },
          "metadata": {
            "tags": []
          }
        }
      ]
    },
    {
      "cell_type": "code",
      "metadata": {
        "id": "wqnVLxuP3x82",
        "colab_type": "code",
        "colab": {}
      },
      "source": [
        "def bootstrap_mean_ci(sample, sample_size, n_iterations, ci):\n",
        "  samples = np.zeros((n_iterations, sample_size))\n",
        "  for i in range(n_iterations):\n",
        "    samples[i, :] = np.random.choice(sample, (sample_size), replace=True)\n",
        "  data_mean = np.mean(samples)\n",
        "  shift = (100 - ci) / 2.0\n",
        "  samples_means = np.mean(samples, axis=1)\n",
        "  lower = np.percentile(samples_means, shift)\n",
        "  upper = np.percentile(samples_means, 100 - shift)\n",
        "  return data_mean, lower, upper"
      ],
      "execution_count": 0,
      "outputs": []
    },
    {
      "cell_type": "code",
      "metadata": {
        "id": "ESdfajsY4lvj",
        "colab_type": "code",
        "outputId": "bb5b41c4-36b3-4834-8769-4cd200a372ff",
        "colab": {
          "base_uri": "https://localhost:8080/",
          "height": 369
        }
      },
      "source": [
        "boots = []\n",
        "for i in range(100, 100000, 1000):\n",
        "    boot = bootstrap_mean_ci(data, data.shape[0], i, 80)\n",
        "    boots.append([i, boot[0], \"mean\"])\n",
        "    boots.append([i, boot[1], \"lower\"])\n",
        "    boots.append([i, boot[2], \"upper\"])\n",
        "\n",
        "df_boot = pd.DataFrame(boots, columns=['Boostrap Iterations', 'Mean', \"Value\"])\n",
        "sns_plot = sns.lmplot(df_boot.columns[0], df_boot.columns[1], data=df_boot, fit_reg=False, hue=\"Value\")\n",
        "\n",
        "sns_plot.axes[0, 0].set_ylim(0,)\n",
        "sns_plot.axes[0, 0].set_xlim(0, 100000)\n",
        "\n",
        "sns_plot.savefig(\"bootstrap_confidence_80.png\", bbox_inches='tight')\n",
        "sns_plot.savefig(\"bootstrap_confidence_80.pdf\", bbox_inches='tight')"
      ],
      "execution_count": 0,
      "outputs": [
        {
          "output_type": "display_data",
          "data": {
            "image/png": "[encoded data removed]",
            "text/plain": [
              "<Figure size 425.125x360 with 1 Axes>"
            ]
          },
          "metadata": {
            "tags": []
          }
        }
      ]
    },
    {
      "cell_type": "markdown",
      "metadata": {
        "id": "ToU385q48o4c",
        "colab_type": "text"
      },
      "source": [
        "##**II. Using the Vehicle Dataset and Implementing Permutation Testing**"
      ]
    },
    {
      "cell_type": "code",
      "metadata": {
        "id": "qPpljSgB9pd4",
        "colab_type": "code",
        "colab": {}
      },
      "source": [
        "# Load the data\n",
        "df = pd.read_csv('https://raw.githubusercontent.com/albanda/CE888/master/lab2%20-%20bootstrap/vehicles.csv')\n",
        "current_fleat = df['Current fleet']\n",
        "new_fleat = df['New Fleet']\n",
        "new_fleat = new_fleat[~np.isnan(new_fleat)]"
      ],
      "execution_count": 0,
      "outputs": []
    },
    {
      "cell_type": "code",
      "metadata": {
        "id": "vGArwlxX-Fvp",
        "colab_type": "code",
        "outputId": "32dcbd00-80a4-4f19-ffc6-ae8127bd7203",
        "colab": {
          "base_uri": "https://localhost:8080/",
          "height": 312
        }
      },
      "source": [
        "plt.scatter(range(len(current_fleat)), current_fleat, label='Current Fleet')\n",
        "plt.scatter(range(len(new_fleat)), new_fleat, label='New Fleet')\n",
        "plt.xlabel('Car ID')\n",
        "plt.ylabel('MPG')\n",
        "plt.title('MPG in Car Fleets')\n",
        "plt.legend()"
      ],
      "execution_count": 57,
      "outputs": [
        {
          "output_type": "execute_result",
          "data": {
            "text/plain": [
              "<matplotlib.legend.Legend at 0x7f9e6d02e358>"
            ]
          },
          "metadata": {
            "tags": []
          },
          "execution_count": 57
        },
        {
          "output_type": "display_data",
          "data": {
            "image/png": "[encoded data removed]",
            "text/plain": [
              "<Figure size 432x288 with 1 Axes>"
            ]
          },
          "metadata": {
            "tags": []
          }
        }
      ]
    },
    {
      "cell_type": "code",
      "metadata": {
        "id": "deNOCN63AVhz",
        "colab_type": "code",
        "outputId": "d235d573-4681-4cef-a4cc-e943f01e884b",
        "colab": {
          "base_uri": "https://localhost:8080/",
          "height": 312
        }
      },
      "source": [
        "sns.distplot(current_fleat, bins=20, kde=False, rug=True, axlabel='MPG').set_title('Histogram of Current Fleat')"
      ],
      "execution_count": 58,
      "outputs": [
        {
          "output_type": "execute_result",
          "data": {
            "text/plain": [
              "Text(0.5, 1.0, 'Histogram of Current Fleat')"
            ]
          },
          "metadata": {
            "tags": []
          },
          "execution_count": 58
        },
        {
          "output_type": "display_data",
          "data": {
            "image/png": "[encoded data removed]",
            "text/plain": [
              "<Figure size 432x288 with 1 Axes>"
            ]
          },
          "metadata": {
            "tags": []
          }
        }
      ]
    },
    {
      "cell_type": "code",
      "metadata": {
        "id": "7S8kmpMaBpth",
        "colab_type": "code",
        "colab": {
          "base_uri": "https://localhost:8080/",
          "height": 312
        },
        "outputId": "a461d3b9-b11c-4de8-f25b-f9991ed5e3f8"
      },
      "source": [
        "sns.distplot(new_fleat, bins=20, kde=False, rug=True, axlabel='MPG').set_title('Histogram of New Fleat')"
      ],
      "execution_count": 59,
      "outputs": [
        {
          "output_type": "execute_result",
          "data": {
            "text/plain": [
              "Text(0.5, 1.0, 'Histogram of New Fleat')"
            ]
          },
          "metadata": {
            "tags": []
          },
          "execution_count": 59
        },
        {
          "output_type": "display_data",
          "data": {
            "image/png": "[encoded data removed]",
            "text/plain": [
              "<Figure size 432x288 with 1 Axes>"
            ]
          },
          "metadata": {
            "tags": []
          }
        }
      ]
    },
    {
      "cell_type": "code",
      "metadata": {
        "id": "ThanGxgsB4M8",
        "colab_type": "code",
        "colab": {}
      },
      "source": [
        "mean_current, lower_current, upper_current = bootstrap_mean_ci(current_fleat, current_fleat.shape[0], 100000, 95)\n",
        "mean_new, lower_new, upper_new = bootstrap_mean_ci(new_fleat, new_fleat.shape[0], 100000, 95)"
      ],
      "execution_count": 0,
      "outputs": []
    },
    {
      "cell_type": "code",
      "metadata": {
        "id": "ufdG6TFtDIt0",
        "colab_type": "code",
        "colab": {
          "base_uri": "https://localhost:8080/",
          "height": 170
        },
        "outputId": "f37c18d7-4b70-4c82-d33c-ddb868d13754"
      },
      "source": [
        "print('Current Fleat:')\n",
        "print('  Mean:', mean_current)\n",
        "print('  Lower Mean (95% CI):', lower_current)\n",
        "print('  Upper Mean (95% CI):', upper_current)\n",
        "print()\n",
        "print('New Fleat:')\n",
        "print('  Mean:', mean_new)\n",
        "print('  Lower Mean (95% CI):', lower_new)\n",
        "print('  Upper Mean (95% CI):', upper_new)"
      ],
      "execution_count": 61,
      "outputs": [
        {
          "output_type": "stream",
          "text": [
            "Current Fleat:\n",
            "  Mean: 20.143266626506023\n",
            "  Lower Mean (95% CI): 19.3574297188755\n",
            "  Upper Mean (95% CI): 20.951807228915662\n",
            "\n",
            "New Fleat:\n",
            "  Mean: 30.48024240506329\n",
            "  Lower Mean (95% CI): 29.139240506329113\n",
            "  Upper Mean (95% CI): 31.82278481012658\n"
          ],
          "name": "stdout"
        }
      ]
    },
    {
      "cell_type": "code",
      "metadata": {
        "id": "bL-zA_T2FBae",
        "colab_type": "code",
        "colab": {
          "base_uri": "https://localhost:8080/",
          "height": 34
        },
        "outputId": "7f29d89c-be72-400c-a9f1-eb2c6c58f6d7"
      },
      "source": [
        "def permutation_test_mean(arrA, arrB, n_permutations):\n",
        "  concat = np.concatenate((arrA, arrB))\n",
        "  arrAsize = len(arrA)\n",
        "  meanA = np.mean(arrA)\n",
        "  meanB = np.mean(arrB)\n",
        "  meanDiffObs = meanB - meanA\n",
        "  count = 0\n",
        "  for i in range(n_permutations):\n",
        "    perm = np.random.permutation(concat)\n",
        "    permA = perm[:arrAsize]\n",
        "    permB = perm[arrAsize:]\n",
        "    meanPermA = np.mean(permA)\n",
        "    meanPermB = np.mean(permB)\n",
        "    if meanPermB - meanPermA > meanDiffObs:\n",
        "      count = count + 1\n",
        "  return count / n_permutations"
      ],
      "execution_count": 78,
      "outputs": [
        {
          "output_type": "stream",
          "text": [
            "0.000000\n"
          ],
          "name": "stdout"
        }
      ]
    },
    {
      "cell_type": "code",
      "metadata": {
        "id": "KQWch9JTPk-T",
        "colab_type": "code",
        "colab": {
          "base_uri": "https://localhost:8080/",
          "height": 312
        },
        "outputId": "b7010f5f-fd55-40eb-f0d1-9f627a07a71c"
      },
      "source": [
        "# This code uses the example of the class just to check if the permutation_test_mean function worked.\n",
        "# old = [0, 0, 0, 0, 0, 0, 1, 0, 0, 1, 0]\n",
        "# new = [1, 0, 0, 1, 1, 1, 0, 0, 0, 1, 0]\n",
        "# iterations = np.linspace(1, 20000, 100, dtype=np.int32)\n",
        "# p_values = []\n",
        "# for i in iterations:\n",
        "#   p_values.append(permutation_test_mean(old, new, i))\n",
        "\n",
        "# plt.scatter(iterations, p_values)\n",
        "# plt.xlabel('Permutations')\n",
        "# plt.ylabel('P-Value')\n",
        "# plt.title('Changes in P-Value According to Permutations Used')"
      ],
      "execution_count": 91,
      "outputs": [
        {
          "output_type": "execute_result",
          "data": {
            "text/plain": [
              "Text(0.5, 1.0, 'Changes in P-Value According to Permutations Used')"
            ]
          },
          "metadata": {
            "tags": []
          },
          "execution_count": 91
        },
        {
          "output_type": "display_data",
          "data": {
            "image/png": "[encoded data removed]",
            "text/plain": [
              "<Figure size 432x288 with 1 Axes>"
            ]
          },
          "metadata": {
            "tags": []
          }
        }
      ]
    },
    {
      "cell_type": "code",
      "metadata": {
        "id": "ntL4rlaZHl6w",
        "colab_type": "code",
        "colab": {
          "base_uri": "https://localhost:8080/",
          "height": 312
        },
        "outputId": "2f64a8d3-f600-465f-a5f8-84a3b3892909"
      },
      "source": [
        "iterations = np.linspace(1, 20000, 100, dtype=np.int32)\n",
        "p_values = []\n",
        "for i in iterations:\n",
        "  p_values.append(permutation_test_mean(current_fleat, new_fleat, i))\n",
        "\n",
        "plt.scatter(iterations, p_values)\n",
        "plt.xlabel('Permutations')\n",
        "plt.ylabel('P-Value')\n",
        "plt.title('Changes in P-Value According to Permutations Used')\n",
        "\n",
        "plt.scatter(iterations, p_values)\n",
        "plt.xlabel('Permutations')\n",
        "plt.ylabel('P-Value')\n",
        "plt.title('Changes in P-Value According to Permutations Used')"
      ],
      "execution_count": 92,
      "outputs": [
        {
          "output_type": "execute_result",
          "data": {
            "text/plain": [
              "Text(0.5, 1.0, 'Changes in P-Value According to Permutations Used')"
            ]
          },
          "metadata": {
            "tags": []
          },
          "execution_count": 92
        },
        {
          "output_type": "display_data",
          "data": {
            "image/png": "[encoded data removed]",
            "text/plain": [
              "<Figure size 432x288 with 1 Axes>"
            ]
          },
          "metadata": {
            "tags": []
          }
        }
      ]
    }
  ]
}