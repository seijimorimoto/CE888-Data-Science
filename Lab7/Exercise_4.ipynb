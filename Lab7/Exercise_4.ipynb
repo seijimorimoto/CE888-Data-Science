{
  "nbformat": 4,
  "nbformat_minor": 0,
  "metadata": {
    "colab": {
      "name": "CE888_Lab7_Exercise_4.ipynb",
      "provenance": [],
      "authorship_tag": "ABX9TyNsKMwb1QH8ZOA41TqZsPv7",
      "include_colab_link": true
    },
    "kernelspec": {
      "name": "python3",
      "display_name": "Python 3"
    },
    "accelerator": "GPU"
  },
  "cells": [
    {
      "cell_type": "markdown",
      "metadata": {
        "id": "view-in-github",
        "colab_type": "text"
      },
      "source": [
        "<a href=\"https://colab.research.google.com/github/seijimorimoto/CE888-Data-Science/blob/master/Lab7/Exercise_4.ipynb\" target=\"_parent\"><img src=\"https://colab.research.google.com/assets/colab-badge.svg\" alt=\"Open In Colab\"/></a>"
      ]
    },
    {
      "cell_type": "markdown",
      "metadata": {
        "id": "Z4HeJojiof1D",
        "colab_type": "text"
      },
      "source": [
        "# **Lab 7. Deep Learning**"
      ]
    },
    {
      "cell_type": "markdown",
      "metadata": {
        "id": "c9m-ieq4oplU",
        "colab_type": "text"
      },
      "source": [
        "## **Exercise 4. CNN with dataset different from Dogs vs Cats**"
      ]
    },
    {
      "cell_type": "code",
      "metadata": {
        "id": "FvArqykMTaJl",
        "colab_type": "code",
        "colab": {
          "base_uri": "https://localhost:8080/",
          "height": 1000
        },
        "outputId": "356856ec-797d-4d99-c03d-e2500f77ecfc"
      },
      "source": [
        "!pip install tensorflow==1.3.0\n",
        "!pip install keras==2.0.7"
      ],
      "execution_count": 17,
      "outputs": [
        {
          "output_type": "stream",
          "text": [
            "Collecting tensorflow==1.3.0\n",
            "\u001b[?25l  Downloading https://files.pythonhosted.org/packages/7c/9f/57e1404fc9345759e4a732c4ab48ab4dd78fd1e60ee1270442b8850fa75f/tensorflow-1.3.0-cp36-cp36m-manylinux1_x86_64.whl (43.5MB)\n",
            "\u001b[K     |████████████████████████████████| 43.6MB 69kB/s \n",
            "\u001b[?25hRequirement already satisfied: numpy>=1.11.0 in /usr/local/lib/python3.6/dist-packages (from tensorflow==1.3.0) (1.18.2)\n",
            "Requirement already satisfied: protobuf>=3.3.0 in /usr/local/lib/python3.6/dist-packages (from tensorflow==1.3.0) (3.10.0)\n",
            "Requirement already satisfied: six>=1.10.0 in /usr/local/lib/python3.6/dist-packages (from tensorflow==1.3.0) (1.12.0)\n",
            "Requirement already satisfied: wheel>=0.26 in /usr/local/lib/python3.6/dist-packages (from tensorflow==1.3.0) (0.34.2)\n",
            "Collecting tensorflow-tensorboard<0.2.0,>=0.1.0\n",
            "\u001b[?25l  Downloading https://files.pythonhosted.org/packages/93/31/bb4111c3141d22bd7b2b553a26aa0c1863c86cb723919e5bd7847b3de4fc/tensorflow_tensorboard-0.1.8-py3-none-any.whl (1.6MB)\n",
            "\u001b[K     |████████████████████████████████| 1.6MB 46.4MB/s \n",
            "\u001b[?25hRequirement already satisfied: setuptools in /usr/local/lib/python3.6/dist-packages (from protobuf>=3.3.0->tensorflow==1.3.0) (46.0.0)\n",
            "Requirement already satisfied: markdown>=2.6.8 in /usr/local/lib/python3.6/dist-packages (from tensorflow-tensorboard<0.2.0,>=0.1.0->tensorflow==1.3.0) (3.2.1)\n",
            "Collecting html5lib==0.9999999\n",
            "\u001b[?25l  Downloading https://files.pythonhosted.org/packages/ae/ae/bcb60402c60932b32dfaf19bb53870b29eda2cd17551ba5639219fb5ebf9/html5lib-0.9999999.tar.gz (889kB)\n",
            "\u001b[K     |████████████████████████████████| 890kB 52.6MB/s \n",
            "\u001b[?25hCollecting bleach==1.5.0\n",
            "  Downloading https://files.pythonhosted.org/packages/33/70/86c5fec937ea4964184d4d6c4f0b9551564f821e1c3575907639036d9b90/bleach-1.5.0-py2.py3-none-any.whl\n",
            "Requirement already satisfied: werkzeug>=0.11.10 in /usr/local/lib/python3.6/dist-packages (from tensorflow-tensorboard<0.2.0,>=0.1.0->tensorflow==1.3.0) (1.0.0)\n",
            "Building wheels for collected packages: html5lib\n",
            "  Building wheel for html5lib (setup.py) ... \u001b[?25l\u001b[?25hdone\n",
            "  Created wheel for html5lib: filename=html5lib-0.9999999-cp36-none-any.whl size=107220 sha256=ce84bdc932fb8c26a69321952b4191829b79c60814620503583fa02b64defc88\n",
            "  Stored in directory: /root/.cache/pip/wheels/50/ae/f9/d2b189788efcf61d1ee0e36045476735c838898eef1cad6e29\n",
            "Successfully built html5lib\n",
            "Installing collected packages: html5lib, bleach, tensorflow-tensorboard, tensorflow\n",
            "  Found existing installation: html5lib 1.0.1\n",
            "    Uninstalling html5lib-1.0.1:\n",
            "      Successfully uninstalled html5lib-1.0.1\n",
            "  Found existing installation: bleach 3.1.4\n",
            "    Uninstalling bleach-3.1.4:\n",
            "      Successfully uninstalled bleach-3.1.4\n",
            "  Found existing installation: tensorflow 2.2.0rc2\n",
            "    Uninstalling tensorflow-2.2.0rc2:\n",
            "      Successfully uninstalled tensorflow-2.2.0rc2\n",
            "Successfully installed bleach-1.5.0 html5lib-0.9999999 tensorflow-1.3.0 tensorflow-tensorboard-0.1.8\n"
          ],
          "name": "stdout"
        },
        {
          "output_type": "display_data",
          "data": {
            "application/vnd.colab-display-data+json": {
              "pip_warning": {
                "packages": [
                  "tensorboard",
                  "tensorflow"
                ]
              }
            }
          },
          "metadata": {
            "tags": []
          }
        },
        {
          "output_type": "stream",
          "text": [
            "Collecting keras==2.0.7\n",
            "\u001b[?25l  Downloading https://files.pythonhosted.org/packages/69/9b/d4a03bf5dcf533fecbbd88053be3a7b4a435e8c2602e5e21a02779dd1aca/Keras-2.0.7-py2.py3-none-any.whl (275kB)\n",
            "\r\u001b[K     |█▏                              | 10kB 26.8MB/s eta 0:00:01\r\u001b[K     |██▍                             | 20kB 6.3MB/s eta 0:00:01\r\u001b[K     |███▋                            | 30kB 5.7MB/s eta 0:00:01\r\u001b[K     |████▊                           | 40kB 5.8MB/s eta 0:00:01\r\u001b[K     |██████                          | 51kB 6.0MB/s eta 0:00:01\r\u001b[K     |███████▏                        | 61kB 7.1MB/s eta 0:00:01\r\u001b[K     |████████▎                       | 71kB 7.4MB/s eta 0:00:01\r\u001b[K     |█████████▌                      | 81kB 7.2MB/s eta 0:00:01\r\u001b[K     |██████████▊                     | 92kB 7.9MB/s eta 0:00:01\r\u001b[K     |████████████                    | 102kB 8.3MB/s eta 0:00:01\r\u001b[K     |█████████████                   | 112kB 8.3MB/s eta 0:00:01\r\u001b[K     |██████████████▎                 | 122kB 8.3MB/s eta 0:00:01\r\u001b[K     |███████████████▌                | 133kB 8.3MB/s eta 0:00:01\r\u001b[K     |████████████████▋               | 143kB 8.3MB/s eta 0:00:01\r\u001b[K     |█████████████████▉              | 153kB 8.3MB/s eta 0:00:01\r\u001b[K     |███████████████████             | 163kB 8.3MB/s eta 0:00:01\r\u001b[K     |████████████████████▎           | 174kB 8.3MB/s eta 0:00:01\r\u001b[K     |█████████████████████▍          | 184kB 8.3MB/s eta 0:00:01\r\u001b[K     |██████████████████████▋         | 194kB 8.3MB/s eta 0:00:01\r\u001b[K     |███████████████████████▉        | 204kB 8.3MB/s eta 0:00:01\r\u001b[K     |█████████████████████████       | 215kB 8.3MB/s eta 0:00:01\r\u001b[K     |██████████████████████████▏     | 225kB 8.3MB/s eta 0:00:01\r\u001b[K     |███████████████████████████▍    | 235kB 8.3MB/s eta 0:00:01\r\u001b[K     |████████████████████████████▌   | 245kB 8.3MB/s eta 0:00:01\r\u001b[K     |█████████████████████████████▊  | 256kB 8.3MB/s eta 0:00:01\r\u001b[K     |███████████████████████████████ | 266kB 8.3MB/s eta 0:00:01\r\u001b[K     |████████████████████████████████| 276kB 8.3MB/s \n",
            "\u001b[?25hRequirement already satisfied: theano in /usr/local/lib/python3.6/dist-packages (from keras==2.0.7) (1.0.4)\n",
            "Requirement already satisfied: six in /usr/local/lib/python3.6/dist-packages (from keras==2.0.7) (1.12.0)\n",
            "Requirement already satisfied: pyyaml in /usr/local/lib/python3.6/dist-packages (from keras==2.0.7) (3.13)\n",
            "Requirement already satisfied: scipy>=0.14 in /usr/local/lib/python3.6/dist-packages (from theano->keras==2.0.7) (1.4.1)\n",
            "Requirement already satisfied: numpy>=1.9.1 in /usr/local/lib/python3.6/dist-packages (from theano->keras==2.0.7) (1.18.2)\n",
            "\u001b[31mERROR: textgenrnn 1.4.1 has requirement keras>=2.1.5, but you'll have keras 2.0.7 which is incompatible.\u001b[0m\n",
            "Installing collected packages: keras\n",
            "  Found existing installation: Keras 2.2.5\n",
            "    Uninstalling Keras-2.2.5:\n",
            "      Successfully uninstalled Keras-2.2.5\n",
            "Successfully installed keras-2.0.7\n"
          ],
          "name": "stdout"
        },
        {
          "output_type": "display_data",
          "data": {
            "application/vnd.colab-display-data+json": {
              "pip_warning": {
                "packages": [
                  "keras"
                ]
              }
            }
          },
          "metadata": {
            "tags": []
          }
        }
      ]
    },
    {
      "cell_type": "code",
      "metadata": {
        "id": "mxVNKKCmMRUV",
        "colab_type": "code",
        "colab": {}
      },
      "source": [
        "import os\n",
        "os.environ['KAGGLE_USERNAME'] = \"angelseiji\" # username from the json file\n",
        "os.environ['KAGGLE_KEY'] = \"3e470ed59c5813172fc10654ef9af1ea\" # key from the json file "
      ],
      "execution_count": 0,
      "outputs": []
    },
    {
      "cell_type": "code",
      "metadata": {
        "id": "MxF8r-TNK4YN",
        "colab_type": "code",
        "colab": {
          "base_uri": "https://localhost:8080/",
          "height": 67
        },
        "outputId": "33d751ec-5523-494a-89f3-c0f8cd38c72c"
      },
      "source": [
        "!kaggle datasets download -d paultimothymooney/chest-xray-pneumonia"
      ],
      "execution_count": 2,
      "outputs": [
        {
          "output_type": "stream",
          "text": [
            "Downloading chest-xray-pneumonia.zip to /content\n",
            "100% 2.29G/2.29G [00:39<00:00, 46.6MB/s]\n",
            "100% 2.29G/2.29G [00:39<00:00, 62.5MB/s]\n"
          ],
          "name": "stdout"
        }
      ]
    },
    {
      "cell_type": "code",
      "metadata": {
        "id": "Lw0DwzCAMkpz",
        "colab_type": "code",
        "colab": {
          "base_uri": "https://localhost:8080/",
          "height": 34
        },
        "outputId": "c400cde7-75ab-4654-948f-f13b8ef72681"
      },
      "source": [
        "from zipfile import ZipFile\n",
        "\n",
        "file_name = \"/content/chest-xray-pneumonia.zip\"\n",
        "\n",
        "with ZipFile(file_name, 'r') as zip:\n",
        "  zip.extractall()\n",
        "  print('done')"
      ],
      "execution_count": 3,
      "outputs": [
        {
          "output_type": "stream",
          "text": [
            "done\n"
          ],
          "name": "stdout"
        }
      ]
    },
    {
      "cell_type": "code",
      "metadata": {
        "id": "Tq9x3SCCMqp8",
        "colab_type": "code",
        "colab": {}
      },
      "source": [
        "data_dir_list = os.listdir('/content/train')\n",
        "#print(data_dir_list)\n",
        "\n",
        "path, dirs, files = next(os.walk(\"/content/train\"))\n",
        "file_count = len(files)\n",
        "print(file_count)"
      ],
      "execution_count": 0,
      "outputs": []
    },
    {
      "cell_type": "code",
      "metadata": {
        "id": "BlzOJqo-NXu8",
        "colab_type": "code",
        "colab": {
          "base_uri": "https://localhost:8080/",
          "height": 118
        },
        "outputId": "0ddc7ddd-b269-4fff-b5ca-63e21891fa24"
      },
      "source": [
        "print(\"Train-normal:\", len(os.listdir('/content/chest_xray/train/NORMAL')))\n",
        "print(\"Train-pneumonia:\", len(os.listdir('/content/chest_xray/train/PNEUMONIA')))\n",
        "print(\"Validation-normal:\", len(os.listdir('/content/chest_xray/val/NORMAL')))\n",
        "print(\"Validation-pneumonia:\", len(os.listdir('/content/chest_xray/val/PNEUMONIA')))\n",
        "print(\"Test-normal:\", len(os.listdir('/content/chest_xray/test/NORMAL')))\n",
        "print(\"Test-pneumonia:\", len(os.listdir('/content/chest_xray/test/PNEUMONIA')))"
      ],
      "execution_count": 16,
      "outputs": [
        {
          "output_type": "stream",
          "text": [
            "Train-normal: 1000\n",
            "Train-pneumonia: 1000\n",
            "Validation-normal: 8\n",
            "Validation-pneumonia: 8\n",
            "Test-normal: 234\n",
            "Test-pneumonia: 390\n"
          ],
          "name": "stdout"
        }
      ]
    },
    {
      "cell_type": "code",
      "metadata": {
        "id": "A2F8IK94ascW",
        "colab_type": "code",
        "colab": {}
      },
      "source": [
        "def remove_excess_of_files_in_dir(dir, max_files_allowed):\n",
        "  file_count = 0\n",
        "  for root, dirs, files in os.walk(dir):\n",
        "    for name in files:\n",
        "      if file_count >= max_files_allowed:\n",
        "        os.remove(os.path.join(root, name))\n",
        "      file_count = file_count + 1"
      ],
      "execution_count": 0,
      "outputs": []
    },
    {
      "cell_type": "code",
      "metadata": {
        "id": "AHVV1FHAW-KA",
        "colab_type": "code",
        "colab": {}
      },
      "source": [
        "remove_excess_of_files_in_dir('/content/chest_xray/train/NORMAL', 1000)\n",
        "remove_excess_of_files_in_dir('/content/chest_xray/train/PNEUMONIA', 1000)"
      ],
      "execution_count": 0,
      "outputs": []
    },
    {
      "cell_type": "code",
      "metadata": {
        "id": "6JcACMftNlFK",
        "colab_type": "code",
        "colab": {
          "base_uri": "https://localhost:8080/",
          "height": 788
        },
        "outputId": "386656e2-a5b0-4efe-e27b-38579bb86d05"
      },
      "source": [
        "from keras import layers\n",
        "from keras import models\n",
        "\n",
        "model = models.Sequential()\n",
        "model.add(layers.Conv2D(32, (3, 3), activation='relu', input_shape=(150, 150, 3)))\n",
        "model.add(layers.MaxPooling2D((2, 2)))\n",
        "model.add(layers.Conv2D(64, (3, 3), activation='relu'))\n",
        "model.add(layers.MaxPooling2D((2, 2)))\n",
        "model.add(layers.Conv2D(128, (3, 3), activation='relu'))\n",
        "model.add(layers.MaxPooling2D((2, 2)))\n",
        "model.add(layers.Conv2D(128, (3, 3), activation='relu'))\n",
        "model.add(layers.MaxPooling2D((2, 2)))\n",
        "model.add(layers.Flatten())\n",
        "model.add(layers.Dense(512, activation='relu'))\n",
        "model.add(layers.Dense(1, activation='sigmoid'))\n",
        "model.summary()"
      ],
      "execution_count": 1,
      "outputs": [
        {
          "output_type": "stream",
          "text": [
            "Using TensorFlow backend.\n",
            "/usr/local/lib/python3.6/dist-packages/tensorflow/python/framework/dtypes.py:458: FutureWarning: Passing (type, 1) or '1type' as a synonym of type is deprecated; in a future version of numpy, it will be understood as (type, (1,)) / '(1,)type'.\n",
            "  _np_qint8 = np.dtype([(\"qint8\", np.int8, 1)])\n",
            "/usr/local/lib/python3.6/dist-packages/tensorflow/python/framework/dtypes.py:459: FutureWarning: Passing (type, 1) or '1type' as a synonym of type is deprecated; in a future version of numpy, it will be understood as (type, (1,)) / '(1,)type'.\n",
            "  _np_quint8 = np.dtype([(\"quint8\", np.uint8, 1)])\n",
            "/usr/local/lib/python3.6/dist-packages/tensorflow/python/framework/dtypes.py:460: FutureWarning: Passing (type, 1) or '1type' as a synonym of type is deprecated; in a future version of numpy, it will be understood as (type, (1,)) / '(1,)type'.\n",
            "  _np_qint16 = np.dtype([(\"qint16\", np.int16, 1)])\n",
            "/usr/local/lib/python3.6/dist-packages/tensorflow/python/framework/dtypes.py:461: FutureWarning: Passing (type, 1) or '1type' as a synonym of type is deprecated; in a future version of numpy, it will be understood as (type, (1,)) / '(1,)type'.\n",
            "  _np_quint16 = np.dtype([(\"quint16\", np.uint16, 1)])\n",
            "/usr/local/lib/python3.6/dist-packages/tensorflow/python/framework/dtypes.py:462: FutureWarning: Passing (type, 1) or '1type' as a synonym of type is deprecated; in a future version of numpy, it will be understood as (type, (1,)) / '(1,)type'.\n",
            "  _np_qint32 = np.dtype([(\"qint32\", np.int32, 1)])\n",
            "/usr/local/lib/python3.6/dist-packages/tensorflow/python/framework/dtypes.py:465: FutureWarning: Passing (type, 1) or '1type' as a synonym of type is deprecated; in a future version of numpy, it will be understood as (type, (1,)) / '(1,)type'.\n",
            "  np_resource = np.dtype([(\"resource\", np.ubyte, 1)])\n"
          ],
          "name": "stderr"
        },
        {
          "output_type": "display_data",
          "data": {
            "text/html": [
              "<p style=\"color: red;\">\n",
              "The default version of TensorFlow in Colab will switch to TensorFlow 2.x on the 27th of March, 2020.<br>\n",
              "We recommend you <a href=\"https://www.tensorflow.org/guide/migrate\" target=\"_blank\">upgrade</a> now\n",
              "or ensure your notebook will continue to use TensorFlow 1.x via the <code>%tensorflow_version 1.x</code> magic:\n",
              "<a href=\"https://colab.research.google.com/notebooks/tensorflow_version.ipynb\" target=\"_blank\">more info</a>.</p>\n"
            ],
            "text/plain": [
              "<IPython.core.display.HTML object>"
            ]
          },
          "metadata": {
            "tags": []
          }
        },
        {
          "output_type": "stream",
          "text": [
            "_________________________________________________________________\n",
            "Layer (type)                 Output Shape              Param #   \n",
            "=================================================================\n",
            "conv2d_1 (Conv2D)            (None, 148, 148, 32)      896       \n",
            "_________________________________________________________________\n",
            "max_pooling2d_1 (MaxPooling2 (None, 74, 74, 32)        0         \n",
            "_________________________________________________________________\n",
            "conv2d_2 (Conv2D)            (None, 72, 72, 64)        18496     \n",
            "_________________________________________________________________\n",
            "max_pooling2d_2 (MaxPooling2 (None, 36, 36, 64)        0         \n",
            "_________________________________________________________________\n",
            "conv2d_3 (Conv2D)            (None, 34, 34, 128)       73856     \n",
            "_________________________________________________________________\n",
            "max_pooling2d_3 (MaxPooling2 (None, 17, 17, 128)       0         \n",
            "_________________________________________________________________\n",
            "conv2d_4 (Conv2D)            (None, 15, 15, 128)       147584    \n",
            "_________________________________________________________________\n",
            "max_pooling2d_4 (MaxPooling2 (None, 7, 7, 128)         0         \n",
            "_________________________________________________________________\n",
            "flatten_1 (Flatten)          (None, 6272)              0         \n",
            "_________________________________________________________________\n",
            "dense_1 (Dense)              (None, 512)               3211776   \n",
            "_________________________________________________________________\n",
            "dense_2 (Dense)              (None, 1)                 513       \n",
            "=================================================================\n",
            "Total params: 3,453,121\n",
            "Trainable params: 3,453,121\n",
            "Non-trainable params: 0\n",
            "_________________________________________________________________\n"
          ],
          "name": "stdout"
        }
      ]
    },
    {
      "cell_type": "code",
      "metadata": {
        "id": "7zazWt3GUKeY",
        "colab_type": "code",
        "colab": {}
      },
      "source": [
        "from keras import optimizers\n",
        "model.compile(loss='binary_crossentropy', \n",
        "              optimizer=optimizers.RMSprop(lr=1e-4),\n",
        "              metrics=['acc'])"
      ],
      "execution_count": 0,
      "outputs": []
    },
    {
      "cell_type": "code",
      "metadata": {
        "id": "725_eufKURrA",
        "colab_type": "code",
        "colab": {
          "base_uri": "https://localhost:8080/",
          "height": 67
        },
        "outputId": "febb0660-0e2c-43fd-fe39-b8a7aacde318"
      },
      "source": [
        "from keras.preprocessing.image import ImageDataGenerator\n",
        "\n",
        "train_datagen = ImageDataGenerator(rescale=1./255)\n",
        "validation_datagen = ImageDataGenerator(rescale=1./255)\n",
        "test_datagen = ImageDataGenerator(rescale=1./255)\n",
        "\n",
        "train_dir = '/content/chest_xray/train'\n",
        "validation_dir = '/content/chest_xray/val'\n",
        "test_dir = '/content/chest_xray/test'\n",
        "\n",
        "train_generator = train_datagen.flow_from_directory(train_dir,\n",
        "                                                    target_size=(150, 150), \n",
        "                                                    batch_size=20,\n",
        "                                                    class_mode='binary')\n",
        "\n",
        "validation_generator = validation_datagen.flow_from_directory(validation_dir,\n",
        "                                                        target_size=(150, 150),\n",
        "                                                        batch_size=16,\n",
        "                                                        class_mode='binary')\n",
        "\n",
        "test_generator = test_datagen.flow_from_directory(test_dir,\n",
        "                                                  target_size=(150, 150),\n",
        "                                                  batch_size=64,\n",
        "                                                  class_mode='binary')"
      ],
      "execution_count": 24,
      "outputs": [
        {
          "output_type": "stream",
          "text": [
            "Found 2000 images belonging to 2 classes.\n",
            "Found 16 images belonging to 2 classes.\n",
            "Found 624 images belonging to 2 classes.\n"
          ],
          "name": "stdout"
        }
      ]
    },
    {
      "cell_type": "code",
      "metadata": {
        "id": "Cu6u_TV_VVJr",
        "colab_type": "code",
        "colab": {
          "base_uri": "https://localhost:8080/",
          "height": 521
        },
        "outputId": "2b8d24c9-fc50-4a18-b41f-38b642942c02"
      },
      "source": [
        "history = model.fit_generator(train_generator,\n",
        "                              steps_per_epoch=100,\n",
        "                              epochs=15 ,\n",
        "                              validation_data=validation_generator,\n",
        "                              validation_steps=1)"
      ],
      "execution_count": 19,
      "outputs": [
        {
          "output_type": "stream",
          "text": [
            "Epoch 1/15\n",
            "100/100 [==============================] - 222s - loss: 0.2397 - acc: 0.9020 - val_loss: 0.3578 - val_acc: 0.8750\n",
            "Epoch 2/15\n",
            "100/100 [==============================] - 215s - loss: 0.1909 - acc: 0.9195 - val_loss: 0.3231 - val_acc: 0.8750\n",
            "Epoch 3/15\n",
            "100/100 [==============================] - 214s - loss: 0.1516 - acc: 0.9430 - val_loss: 0.3390 - val_acc: 0.8750\n",
            "Epoch 4/15\n",
            "100/100 [==============================] - 215s - loss: 0.1389 - acc: 0.9450 - val_loss: 0.4171 - val_acc: 0.7500\n",
            "Epoch 5/15\n",
            "100/100 [==============================] - 216s - loss: 0.1152 - acc: 0.9580 - val_loss: 0.3862 - val_acc: 0.8125\n",
            "Epoch 6/15\n",
            "100/100 [==============================] - 214s - loss: 0.1150 - acc: 0.9565 - val_loss: 0.1888 - val_acc: 0.9375\n",
            "Epoch 7/15\n",
            "100/100 [==============================] - 213s - loss: 0.1089 - acc: 0.9650 - val_loss: 0.1731 - val_acc: 0.9375\n",
            "Epoch 8/15\n",
            "100/100 [==============================] - 214s - loss: 0.0899 - acc: 0.9625 - val_loss: 0.4842 - val_acc: 0.8125\n",
            "Epoch 9/15\n",
            "100/100 [==============================] - 213s - loss: 0.0940 - acc: 0.9635 - val_loss: 0.1794 - val_acc: 0.9375\n",
            "Epoch 10/15\n",
            "100/100 [==============================] - 214s - loss: 0.0770 - acc: 0.9675 - val_loss: 0.1313 - val_acc: 1.0000\n",
            "Epoch 11/15\n",
            "100/100 [==============================] - 213s - loss: 0.0729 - acc: 0.9715 - val_loss: 0.1538 - val_acc: 0.9375\n",
            "Epoch 12/15\n",
            "100/100 [==============================] - 219s - loss: 0.0685 - acc: 0.9715 - val_loss: 0.2403 - val_acc: 0.8125\n",
            "Epoch 13/15\n",
            "100/100 [==============================] - 218s - loss: 0.0615 - acc: 0.9755 - val_loss: 0.1884 - val_acc: 0.9375\n",
            "Epoch 14/15\n",
            "100/100 [==============================] - 221s - loss: 0.0532 - acc: 0.9795 - val_loss: 0.1231 - val_acc: 0.8750\n",
            "Epoch 15/15\n",
            "100/100 [==============================] - 228s - loss: 0.0564 - acc: 0.9800 - val_loss: 0.7630 - val_acc: 0.6875\n"
          ],
          "name": "stdout"
        }
      ]
    },
    {
      "cell_type": "code",
      "metadata": {
        "id": "30B4IV0fbwgx",
        "colab_type": "code",
        "colab": {
          "base_uri": "https://localhost:8080/",
          "height": 545
        },
        "outputId": "0746a1b5-dde8-4cb0-d54b-e5566177fa3e"
      },
      "source": [
        "model.save('pneumonia.h5')\n",
        "\n",
        "import matplotlib.pyplot as plt\n",
        "\n",
        "acc = history.history['acc']\n",
        "val_acc = history.history['val_acc']\n",
        "loss = history.history['loss']\n",
        "val_loss = history.history['val_loss']\n",
        "\n",
        "epochs = range(1, len(acc) + 1)\n",
        "\n",
        "plt.plot(epochs, acc, 'bo', label='Training acc')\n",
        "plt.plot(epochs, val_acc, 'b', label='Validation acc')\n",
        "plt.title('Training and validation accuracy')\n",
        "plt.legend()\n",
        "\n",
        "plt.figure()\n",
        "\n",
        "plt.plot(epochs, loss, 'bo', label='Training loss')\n",
        "plt.plot(epochs, val_loss, 'b', label='Validation loss')\n",
        "plt.title('Training and validation loss')\n",
        "plt.legend()\n",
        "\n",
        "plt.show()"
      ],
      "execution_count": 20,
      "outputs": [
        {
          "output_type": "display_data",
          "data": {
            "image/png": "[encoded data removed]",
            "text/plain": [
              "<Figure size 432x288 with 1 Axes>"
            ]
          },
          "metadata": {
            "tags": []
          }
        },
        {
          "output_type": "display_data",
          "data": {
            "image/png": "[encoded data removed]",
            "text/plain": [
              "<Figure size 432x288 with 1 Axes>"
            ]
          },
          "metadata": {
            "tags": []
          }
        }
      ]
    },
    {
      "cell_type": "code",
      "metadata": {
        "id": "Yy0iywqLb7kA",
        "colab_type": "code",
        "colab": {
          "base_uri": "https://localhost:8080/",
          "height": 50
        },
        "outputId": "45c054b2-9db5-47bf-8d1f-b21ee2db2eb8"
      },
      "source": [
        "test_loss, test_acc = model.evaluate_generator(test_generator, steps=10)\n",
        "print('Test loss:', test_loss)\n",
        "print('Test acc:', test_acc)"
      ],
      "execution_count": 25,
      "outputs": [
        {
          "output_type": "stream",
          "text": [
            "Test loss: 1.5498285171313164\n",
            "Test acc: 0.7291666651383425\n"
          ],
          "name": "stdout"
        }
      ]
    }
  ]
}