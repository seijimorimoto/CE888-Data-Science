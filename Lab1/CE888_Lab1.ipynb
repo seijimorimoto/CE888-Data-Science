{
  "nbformat": 4,
  "nbformat_minor": 0,
  "metadata": {
    "colab": {
      "name": "CE888_Lab1.ipynb",
      "provenance": [],
      "collapsed_sections": [],
      "authorship_tag": "ABX9TyP7wb0uS+q8WuMSCWV4rIL3",
      "include_colab_link": true
    },
    "kernelspec": {
      "name": "python3",
      "display_name": "Python 3"
    }
  },
  "cells": [
    {
      "cell_type": "markdown",
      "metadata": {
        "id": "view-in-github",
        "colab_type": "text"
      },
      "source": [
        "<a href=\"https://colab.research.google.com/github/seijimorimoto/CE888-Data-Science/blob/master/Lab1/CE888_Lab1.ipynb\" target=\"_parent\"><img src=\"https://colab.research.google.com/assets/colab-badge.svg\" alt=\"Open In Colab\"/></a>"
      ]
    },
    {
      "cell_type": "markdown",
      "metadata": {
        "id": "wujTAZE3EUZY",
        "colab_type": "text"
      },
      "source": [
        "#**Lab 1. Introduction to Numerical Computing with Numpy and Matplotlib**"
      ]
    },
    {
      "cell_type": "markdown",
      "metadata": {
        "id": "PCjXI5hzDOgd",
        "colab_type": "text"
      },
      "source": [
        "###**1. Create a (4 x 2) integer array and print it's attributes**"
      ]
    },
    {
      "cell_type": "code",
      "metadata": {
        "id": "L-g3rrYc2QW6",
        "colab_type": "code",
        "colab": {
          "base_uri": "https://localhost:8080/",
          "height": 204
        },
        "outputId": "d418f08d-f386-444a-c4bd-8ee8303f591e"
      },
      "source": [
        "import numpy as np\n",
        "\n",
        "x = np.array([[1, 2], [3, 4], [5, 6], [7, 8]])\n",
        "print('x:')\n",
        "print(x)\n",
        "print('\\nDimensions of x =', x.ndim)\n",
        "print('Type of data stored in x =', x.dtype)\n",
        "print('Number of elements in x =', x.size)\n",
        "print('Byte size of each element in x =', x.itemsize)\n",
        "print('Total byte size of x =', x.nbytes)"
      ],
      "execution_count": 1,
      "outputs": [
        {
          "output_type": "stream",
          "text": [
            "x:\n",
            "[[1 2]\n",
            " [3 4]\n",
            " [5 6]\n",
            " [7 8]]\n",
            "\n",
            "Dimensions of x = 2\n",
            "Type of data stored in x = int64\n",
            "Number of elements in x = 8\n",
            "Byte size of each element in x = 8\n",
            "Total byte size of x = 64\n"
          ],
          "name": "stdout"
        }
      ]
    },
    {
      "cell_type": "markdown",
      "metadata": {
        "id": "A-UrWobEDj5r",
        "colab_type": "text"
      },
      "source": [
        "###**2. Create an array of dimension (1,10) and sort it in ascending and descending order**"
      ]
    },
    {
      "cell_type": "code",
      "metadata": {
        "id": "YFLFmQnF3RtC",
        "colab_type": "code",
        "colab": {
          "base_uri": "https://localhost:8080/",
          "height": 68
        },
        "outputId": "86b82498-f683-4907-d2e5-1e8b6f9aef05"
      },
      "source": [
        "x = np.array([5, 4, 6, 3, 7, 2, 8, 1, 9, 0])\n",
        "print('Original array:', x)\n",
        "x = np.sort(x)\n",
        "print('Array sorted in ascending order:', x)\n",
        "x[::-1].sort()\n",
        "print('Array sorted in descending order:', x)"
      ],
      "execution_count": 2,
      "outputs": [
        {
          "output_type": "stream",
          "text": [
            "Original array: [5 4 6 3 7 2 8 1 9 0]\n",
            "Array sorted in ascending order: [0 1 2 3 4 5 6 7 8 9]\n",
            "Array sorted in descending order: [9 8 7 6 5 4 3 2 1 0]\n"
          ],
          "name": "stdout"
        }
      ]
    },
    {
      "cell_type": "markdown",
      "metadata": {
        "id": "rSb739haDsOM",
        "colab_type": "text"
      },
      "source": [
        "###**3. Convert an 1D array [1 2 3 4 5 6 7 8 9] to 2D array [[1 2 3], [4 5 6], [7 8 9]]**"
      ]
    },
    {
      "cell_type": "code",
      "metadata": {
        "id": "FjCIpIft4huT",
        "colab_type": "code",
        "colab": {
          "base_uri": "https://localhost:8080/",
          "height": 102
        },
        "outputId": "3e734018-418a-49c1-8483-7b58f045f96f"
      },
      "source": [
        "x = np.array([1, 2, 3, 4, 5, 6, 7, 8, 9])\n",
        "print('Original array:', x)\n",
        "print('Array reshaped to have 3x3 shape:')\n",
        "print(np.reshape(x, (3, 3)))"
      ],
      "execution_count": 3,
      "outputs": [
        {
          "output_type": "stream",
          "text": [
            "Original array: [1 2 3 4 5 6 7 8 9]\n",
            "Array reshaped to have 3x3 shape:\n",
            "[[1 2 3]\n",
            " [4 5 6]\n",
            " [7 8 9]]\n"
          ],
          "name": "stdout"
        }
      ]
    },
    {
      "cell_type": "markdown",
      "metadata": {
        "id": "DRABr7OtDvKc",
        "colab_type": "text"
      },
      "source": [
        "###**4. Stack two arrays of any size horizontally and vertically**"
      ]
    },
    {
      "cell_type": "code",
      "metadata": {
        "id": "yTXDeRLo5SLV",
        "colab_type": "code",
        "colab": {
          "base_uri": "https://localhost:8080/",
          "height": 340
        },
        "outputId": "97ff9e43-0387-4a4d-d1f9-e43c19d6d84b"
      },
      "source": [
        "x = np.random.randint(1, 10, 10)\n",
        "y = np.random.randint(100, 200, 10)\n",
        "print('Original arrays:')\n",
        "print(x)\n",
        "print(y)\n",
        "print('\\nArrays stacked horizontally:')\n",
        "print(np.stack((x, y), axis=0))\n",
        "print('\\nArrays stacked vertically:')\n",
        "print(np.stack((x, y), axis=-1))"
      ],
      "execution_count": 4,
      "outputs": [
        {
          "output_type": "stream",
          "text": [
            "Original arrays:\n",
            "[8 7 4 1 4 5 8 6 8 1]\n",
            "[142 197 129 178 190 148 190 138 126 137]\n",
            "\n",
            "Arrays stacked horizontally:\n",
            "[[  8   7   4   1   4   5   8   6   8   1]\n",
            " [142 197 129 178 190 148 190 138 126 137]]\n",
            "\n",
            "Arrays stacked vertically:\n",
            "[[  8 142]\n",
            " [  7 197]\n",
            " [  4 129]\n",
            " [  1 178]\n",
            " [  4 190]\n",
            " [  5 148]\n",
            " [  8 190]\n",
            " [  6 138]\n",
            " [  8 126]\n",
            " [  1 137]]\n"
          ],
          "name": "stdout"
        }
      ]
    },
    {
      "cell_type": "markdown",
      "metadata": {
        "id": "XqaxE_9bDwnE",
        "colab_type": "text"
      },
      "source": [
        "###**5. Create two arrays of same size and find commom elements**"
      ]
    },
    {
      "cell_type": "code",
      "metadata": {
        "id": "hALTXuIo7uG7",
        "colab_type": "code",
        "colab": {
          "base_uri": "https://localhost:8080/",
          "height": 68
        },
        "outputId": "169b0f9a-bcd2-4cf8-cd63-5620e3194681"
      },
      "source": [
        "x = np.random.randint(1, 10, 5)\n",
        "y = np.random.randint(1, 10, 5)\n",
        "print('Array 1:', x)\n",
        "print('Array 2:', y)\n",
        "print('Common elements:', np.intersect1d(x, y))"
      ],
      "execution_count": 5,
      "outputs": [
        {
          "output_type": "stream",
          "text": [
            "Array 1: [8 2 9 4 4]\n",
            "Array 2: [8 7 3 8 9]\n",
            "Common elements: [8 9]\n"
          ],
          "name": "stdout"
        }
      ]
    },
    {
      "cell_type": "markdown",
      "metadata": {
        "id": "4cGy2CJhDxvE",
        "colab_type": "text"
      },
      "source": [
        "###**6. Create a 2D array of 5 by 5 and find the min and max values from each row and each column**"
      ]
    },
    {
      "cell_type": "code",
      "metadata": {
        "id": "l0aIC79b8YLb",
        "colab_type": "code",
        "colab": {
          "base_uri": "https://localhost:8080/",
          "height": 204
        },
        "outputId": "2a2e8aee-f082-436a-8ac1-bfd8d3b1e5b9"
      },
      "source": [
        "x = np.random.randint(1, 100, (5, 5))\n",
        "print('Original Array:')\n",
        "print(x)\n",
        "print('\\nMin values from each row:', np.amin(x, axis=1))\n",
        "print('Min values from each column:', np.amin(x, axis=0))\n",
        "print('Max values from each row:', np.amax(x, axis=1))\n",
        "print('Max values from each column:', np.amax(x, axis=0))"
      ],
      "execution_count": 6,
      "outputs": [
        {
          "output_type": "stream",
          "text": [
            "Original Array:\n",
            "[[44 35 57  8 55]\n",
            " [53 23 53 28 35]\n",
            " [67 80 72 98 56]\n",
            " [33 90 98  6 27]\n",
            " [13 25 65 18 81]]\n",
            "\n",
            "Min values from each row: [ 8 23 56  6 13]\n",
            "Min values from each column: [13 23 53  6 27]\n",
            "Max values from each row: [57 53 98 98 81]\n",
            "Max values from each column: [67 90 98 98 81]\n"
          ],
          "name": "stdout"
        }
      ]
    },
    {
      "cell_type": "markdown",
      "metadata": {
        "id": "ByLG58h2Dy3s",
        "colab_type": "text"
      },
      "source": [
        "###**7. Create an array of size 100 and compute the mean, median, standard deviation**"
      ]
    },
    {
      "cell_type": "code",
      "metadata": {
        "id": "ZlxiPSVf9psa",
        "colab_type": "code",
        "colab": {
          "base_uri": "https://localhost:8080/",
          "height": 170
        },
        "outputId": "926a9a6f-3435-4d8a-9693-d9fea0e44d11"
      },
      "source": [
        "x = np.random.randint(1, 1000, 100)\n",
        "print('Array:', x)\n",
        "print('Mean:', np.mean(x))\n",
        "print('Median:', np.median(x))\n",
        "print('Std Deviation:', np.std(x))"
      ],
      "execution_count": 7,
      "outputs": [
        {
          "output_type": "stream",
          "text": [
            "Array: [286 741   8  63  40   7 286 721 476 898 261 423 360 271 366  25 390 596\n",
            " 862 188 497 433 568 261 166 559 416 394 798   8 314 195 870 257 528 161\n",
            " 195 842 404 817 892 852 500 489 385 882 200 644 135 496  24 373  15 576\n",
            " 403 163 610 139 476 581  59 199 977 845 167 525  68 314 610 884 927 622\n",
            " 283 268 702 427 971 803 662 686 538 642 522 302 894 775 736 161 101 645\n",
            " 827  59  96 541 584 803 114 918 124 116]\n",
            "Mean: 452.83\n",
            "Median: 430.0\n",
            "Std Deviation: 283.56509146931324\n"
          ],
          "name": "stdout"
        }
      ]
    },
    {
      "cell_type": "markdown",
      "metadata": {
        "id": "-HeBnSg3Dz08",
        "colab_type": "text"
      },
      "source": [
        "###**8. Normalize a 5x5 random matrix**"
      ]
    },
    {
      "cell_type": "code",
      "metadata": {
        "id": "HS4BVh1E-PqP",
        "colab_type": "code",
        "colab": {
          "base_uri": "https://localhost:8080/",
          "height": 238
        },
        "outputId": "4503fa1e-2afb-4ce8-da12-487a2e159762"
      },
      "source": [
        "x = np.random.randint(0, 43, (5, 5))\n",
        "print('Original Array:')\n",
        "print(x)\n",
        "y = (x - x.min()) / (x.max() - x.min())\n",
        "print('\\nNormalized Array:')\n",
        "print(y)"
      ],
      "execution_count": 8,
      "outputs": [
        {
          "output_type": "stream",
          "text": [
            "Original Array:\n",
            "[[12 22  2 31 20]\n",
            " [15  6 34 38  4]\n",
            " [23  6 12  6  7]\n",
            " [41 39 28 14 42]\n",
            " [ 2 40 41  9  9]]\n",
            "\n",
            "Normalized Array:\n",
            "[[0.25  0.5   0.    0.725 0.45 ]\n",
            " [0.325 0.1   0.8   0.9   0.05 ]\n",
            " [0.525 0.1   0.25  0.1   0.125]\n",
            " [0.975 0.925 0.65  0.3   1.   ]\n",
            " [0.    0.95  0.975 0.175 0.175]]\n"
          ],
          "name": "stdout"
        }
      ]
    },
    {
      "cell_type": "markdown",
      "metadata": {
        "id": "8KHr3H2ND080",
        "colab_type": "text"
      },
      "source": [
        "###**9. Consider an array of dimension (4,4,3), how to multiply it by an array with dimensions (4,4)?**"
      ]
    },
    {
      "cell_type": "code",
      "metadata": {
        "id": "ZT9l0UbX_fgO",
        "colab_type": "code",
        "colab": {
          "base_uri": "https://localhost:8080/",
          "height": 799
        },
        "outputId": "634619f8-a72f-4258-9002-26cbf0cbd4ce"
      },
      "source": [
        "x = np.random.randint(0, 43, (4, 4, 3))\n",
        "y = np.random.randint(0, 43, (4, 4))\n",
        "print('Original arrays:')\n",
        "print(x)\n",
        "print()\n",
        "print(y)\n",
        "z = np.zeros((4, 4, 3))\n",
        "for i in range(3):\n",
        "  z[:, :, i] = x[:, :, i] * y\n",
        "print('\\nArrays multiplication:')\n",
        "print(z)"
      ],
      "execution_count": 9,
      "outputs": [
        {
          "output_type": "stream",
          "text": [
            "Original arrays:\n",
            "[[[20 20 15]\n",
            "  [ 0 29 12]\n",
            "  [24 32 23]\n",
            "  [23  2 40]]\n",
            "\n",
            " [[40 37  6]\n",
            "  [39 27 24]\n",
            "  [24  7  5]\n",
            "  [ 5 11  3]]\n",
            "\n",
            " [[27 26  4]\n",
            "  [18 22 20]\n",
            "  [22 20  8]\n",
            "  [ 7  5 31]]\n",
            "\n",
            " [[ 5 34 42]\n",
            "  [21 38  2]\n",
            "  [16 23 38]\n",
            "  [ 2 29 34]]]\n",
            "\n",
            "[[21 35 42 27]\n",
            " [20 15 39 16]\n",
            " [25 23  3 24]\n",
            " [29 38 37 29]]\n",
            "\n",
            "Arrays multiplication:\n",
            "[[[ 420.  420.  315.]\n",
            "  [   0. 1015.  420.]\n",
            "  [1008. 1344.  966.]\n",
            "  [ 621.   54. 1080.]]\n",
            "\n",
            " [[ 800.  740.  120.]\n",
            "  [ 585.  405.  360.]\n",
            "  [ 936.  273.  195.]\n",
            "  [  80.  176.   48.]]\n",
            "\n",
            " [[ 675.  650.  100.]\n",
            "  [ 414.  506.  460.]\n",
            "  [  66.   60.   24.]\n",
            "  [ 168.  120.  744.]]\n",
            "\n",
            " [[ 145.  986. 1218.]\n",
            "  [ 798. 1444.   76.]\n",
            "  [ 592.  851. 1406.]\n",
            "  [  58.  841.  986.]]]\n"
          ],
          "name": "stdout"
        }
      ]
    }
  ]
}